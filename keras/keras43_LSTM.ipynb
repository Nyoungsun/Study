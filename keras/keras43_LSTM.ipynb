{
 "cells": [
  {
   "cell_type": "code",
   "execution_count": 4,
   "metadata": {},
   "outputs": [],
   "source": [
    "import numpy as np\n",
    "from tensorflow.keras.models import Sequential\n",
    "from tensorflow.keras.layers import Dense, LSTM"
   ]
  },
  {
   "attachments": {},
   "cell_type": "markdown",
   "metadata": {},
   "source": [
    "# 데이터"
   ]
  },
  {
   "cell_type": "code",
   "execution_count": 5,
   "metadata": {},
   "outputs": [
    {
     "name": "stdout",
     "output_type": "stream",
     "text": [
      "dataset.shape:  (10,)\n",
      "x.shape:  (7, 3) y.shape:  (7,)\n"
     ]
    }
   ],
   "source": [
    "dataset = np.array([1,2,3,4,5,6,7,8,9,10])\n",
    "x = np.array([[1,2,3], [2,3,4], [3,4,5], [4,5,6], [5,6,7], [6,7,8], [7,8,9]])\n",
    "y = np.array([4, 5, 6, 7, 8, 9, 10])\n",
    "\n",
    "print(\"dataset.shape: \", dataset.shape)\n",
    "print(\"x.shape: \", x.shape, \"y.shape: \", y.shape)\n",
    "\n",
    "x = x.reshape(7, 3, 1)"
   ]
  },
  {
   "attachments": {},
   "cell_type": "markdown",
   "metadata": {},
   "source": [
    "# 모델"
   ]
  },
  {
   "cell_type": "code",
   "execution_count": 6,
   "metadata": {},
   "outputs": [
    {
     "name": "stdout",
     "output_type": "stream",
     "text": [
      "Model: \"sequential_1\"\n",
      "_________________________________________________________________\n",
      " Layer (type)                Output Shape              Param #   \n",
      "=================================================================\n",
      " lstm_1 (LSTM)               (None, 10)                480       \n",
      "                                                                 \n",
      " dense_2 (Dense)             (None, 5)                 55        \n",
      "                                                                 \n",
      " dense_3 (Dense)             (None, 1)                 6         \n",
      "                                                                 \n",
      "=================================================================\n",
      "Total params: 541\n",
      "Trainable params: 541\n",
      "Non-trainable params: 0\n",
      "_________________________________________________________________\n"
     ]
    }
   ],
   "source": [
    "model = Sequential()\n",
    "model.add(LSTM(units = 10, input_shape=(3, 1))) # model.add(SimpleRNN(units = 64, input_length = 3, input_dim = 1)) # model.add(SimpleRNN(units = 64, input_shape=(3, 1)))\n",
    "model.add(Dense(5, activation = 'relu'))\n",
    "model.add(Dense(1))\n",
    "model.summary() \n",
    "\n",
    "# RNN은 데이터 값을 전달하기 때문에 Dense에 적용하기 위한 Flatten을 하지 않아도 된다.\n",
    "# 시계열 데이터에는 Y가 없다. \n",
    "# simpleRNN: 10 * (10 + 1 + 1) = 120 => units * (units + input_dim + bias) = param\n",
    "# LSTM: 4개의 게이트가 존재하므로 120 * 4 = 480\n"
   ]
  }
 ],
 "metadata": {
  "kernelspec": {
   "display_name": "tf274gpu",
   "language": "python",
   "name": "python3"
  },
  "language_info": {
   "codemirror_mode": {
    "name": "ipython",
    "version": 3
   },
   "file_extension": ".py",
   "mimetype": "text/x-python",
   "name": "python",
   "nbconvert_exporter": "python",
   "pygments_lexer": "ipython3",
   "version": "3.9.7 (default, Sep 16 2021, 16:59:28) [MSC v.1916 64 bit (AMD64)]"
  },
  "orig_nbformat": 4,
  "vscode": {
   "interpreter": {
    "hash": "10848e9bd3f5e7d93542d388001135334854454e7336dcf54c4ef52885ee0fb0"
   }
  }
 },
 "nbformat": 4,
 "nbformat_minor": 2
}

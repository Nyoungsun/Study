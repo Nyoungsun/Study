{
 "cells": [
  {
   "attachments": {},
   "cell_type": "markdown",
   "metadata": {},
   "source": [
    " # 데이터"
   ]
  },
  {
   "cell_type": "code",
   "execution_count": 1,
   "metadata": {},
   "outputs": [
    {
     "name": "stdout",
     "output_type": "stream",
     "text": [
      "Found 160 images belonging to 2 classes.\n",
      "Found 120 images belonging to 2 classes.\n",
      "(160, 200, 200, 1)\n",
      "(160,)\n",
      "<class 'keras.preprocessing.image.DirectoryIterator'>\n",
      "<class 'tuple'>\n",
      "<class 'numpy.ndarray'>\n",
      "<class 'numpy.ndarray'>\n"
     ]
    }
   ],
   "source": [
    "import numpy as np\n",
    "from tensorflow.keras.preprocessing.image import ImageDataGenerator\n",
    "\n",
    "train_data_Gen = ImageDataGenerator (\n",
    "    rescale = 1./255, \n",
    "    # horizontal_flip = True,         # 수평선을 기준으로 반전\n",
    "    # vertical_flip = True,           # 수직선을 기준으로 반전\n",
    "    # width_shift_range = 0.1,        # 10% 만큼 가로 이동\n",
    "    # height_shift_range = 0.1,       # 10% 만큼 세로 이동\n",
    "    # rotation_range = 5,             # 회전\n",
    "    # zoom_range = 0.7,               # 확대\n",
    "    # shear_range = 0.7,              # 엇갈림\n",
    "    # fill_mode = 'nearest'           # 축 이동을 했을 때 비는 부분을 가까운 값으로 채운다.\n",
    ")\n",
    "\n",
    "test_data_Gen = ImageDataGenerator (\n",
    "    rescale = 1./255                # 테스트 데이터는 리스케일링만 한다.: 평가에 쓰이는 테스트 데이터는 증폭시키지 않은 원 데이터 사용\n",
    ")\n",
    "\n",
    "xy_train = train_data_Gen.flow_from_directory (\n",
    "    'C:/study/keras/keras_data/brain/train',\n",
    "    target_size=(200,200),\n",
    "    batch_size=1024,                 \n",
    "    class_mode='binary',\n",
    "    # class_mode='categorical',       # one-hot\n",
    "    color_mode='grayscale',\n",
    "    shuffle=True\n",
    ")\n",
    "\n",
    "# ad(alzheimer disease) = 0, normal = 1  \n",
    "# x = (160, 150, 150, 1), y = (160,) → 흑백 image \n",
    "# 160장 중에 ad, normal 각 80장씩\n",
    "# np.unique = 0, 1\n",
    "\n",
    "xy_test = train_data_Gen.flow_from_directory (\n",
    "    'C:/study/keras/keras_data/brain/test',\n",
    "    target_size=(200,200),\n",
    "    batch_size=1024,                 \n",
    "    class_mode='binary',\n",
    "    color_mode='grayscale',\n",
    "    shuffle=True\n",
    ")\n",
    "\n",
    "# print(xy_train, '\\n', xy_test)    # <keras.preprocessing.image.DirectoryIterator object at 0x000002862718CAC0>\n",
    "# print(xy_train[0])                # x data와 y data 개수, y data 개수 = batch_size 개수 만큼\n",
    "# print(xy_train[0][0])\n",
    "# print(xy_train[0][1])\n",
    "print(xy_train[0][0].shape)         # x (10 = batch_size)\n",
    "print(xy_train[0][1].shape)         # y\n",
    "\n",
    "# batch_size를 전체 데이터보다 최대한 크게 끔 지정하면 전체 데이터의 개수를 알 수 있다.\n",
    " \n",
    "print(type(xy_train))        \n",
    "print(type(xy_train[0]))             # 튜플은 변경 불가 \n",
    "print(type(xy_train[0][0]))\n",
    "print(type(xy_train[0][1]))"
   ]
  },
  {
   "attachments": {},
   "cell_type": "markdown",
   "metadata": {},
   "source": [
    "# 수치화된 원본 이미지 저장"
   ]
  },
  {
   "cell_type": "code",
   "execution_count": 2,
   "metadata": {},
   "outputs": [],
   "source": [
    "np.save('C:/study/keras/keras_data/brain/brain_x_train.npy', arr=xy_train[0][0])\n",
    "np.save('C:/study/keras/keras_data/brain/brain_y_train.npy', arr=xy_train[0][1])\n",
    "\n",
    "np.save('C:/study/keras/keras_data/brain/brain_x_test.npy', arr=xy_test[0][0])\n",
    "np.save('C:/study/keras/keras_data/brain/brain_y_test.npy', arr=xy_test[0][1])\n"
   ]
  }
 ],
 "metadata": {
  "kernelspec": {
   "display_name": "tf274gpu",
   "language": "python",
   "name": "python3"
  },
  "language_info": {
   "codemirror_mode": {
    "name": "ipython",
    "version": 3
   },
   "file_extension": ".py",
   "mimetype": "text/x-python",
   "name": "python",
   "nbconvert_exporter": "python",
   "pygments_lexer": "ipython3",
   "version": "3.9.7 (default, Sep 16 2021, 16:59:28) [MSC v.1916 64 bit (AMD64)]"
  },
  "orig_nbformat": 4,
  "vscode": {
   "interpreter": {
    "hash": "10848e9bd3f5e7d93542d388001135334854454e7336dcf54c4ef52885ee0fb0"
   }
  }
 },
 "nbformat": 4,
 "nbformat_minor": 2
}

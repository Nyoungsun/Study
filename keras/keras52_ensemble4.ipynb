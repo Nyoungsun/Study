{
 "cells": [
  {
   "attachments": {},
   "cell_type": "markdown",
   "metadata": {},
   "source": [
    "# 데이터"
   ]
  },
  {
   "cell_type": "code",
   "execution_count": 21,
   "metadata": {},
   "outputs": [
    {
     "name": "stdout",
     "output_type": "stream",
     "text": [
      "(100, 2)\n",
      "(70, 2) (30, 2) (70,) (30,) (70,) (30,)\n"
     ]
    }
   ],
   "source": [
    "import numpy as np\n",
    "from sklearn.model_selection import train_test_split\n",
    "\n",
    "x1 = np.array([range(100), range(301, 401)]).T                          # ex) 삼전 시가, 고가\n",
    "\n",
    "y1 = np.array(range(2001, 2101)) # 삼전 하루 뒤 종가\n",
    "y2 = np.array(range(201, 301)) # 아모레 하루 뒤 종가\n",
    "y3 = np.array(range(201, 301)) # 아모레 하루 뒤 종가\n",
    "\n",
    "\n",
    "print(x1.shape)\n",
    "\n",
    "x1_train, x1_test, \\\n",
    "    y1_train, y1_test, \\\n",
    "            y2_train, y2_test, \\\n",
    "                y3_train, y3_test = train_test_split(x1, y1, y2, y3, train_size=0.7, random_state=3333)\n",
    "\n",
    "print(x1_train.shape, x1_test.shape,\n",
    "      y1_train.shape, y1_test.shape,\n",
    "      y2_train.shape, y2_test.shape)"
   ]
  },
  {
   "cell_type": "code",
   "execution_count": 22,
   "metadata": {},
   "outputs": [
    {
     "name": "stdout",
     "output_type": "stream",
     "text": [
      "Model: \"model_6\"\n",
      "__________________________________________________________________________________________________\n",
      " Layer (type)                   Output Shape         Param #     Connected to                     \n",
      "==================================================================================================\n",
      " input_7 (InputLayer)           [(None, 2)]          0           []                               \n",
      "                                                                                                  \n",
      " dense1 (Dense)                 (None, 16)           48          ['input_7[0][0]']                \n",
      "                                                                                                  \n",
      " dense2 (Dense)                 (None, 16)           272         ['dense1[0][0]']                 \n",
      "                                                                                                  \n",
      " dense3 (Dense)                 (None, 16)           272         ['dense2[0][0]']                 \n",
      "                                                                                                  \n",
      " output1 (Dense)                (None, 16)           272         ['dense3[0][0]']                 \n",
      "                                                                                                  \n",
      " dense2_1 (Dense)               (None, 16)           272         ['output1[0][0]']                \n",
      "                                                                                                  \n",
      " dense3_1 (Dense)               (None, 16)           272         ['output1[0][0]']                \n",
      "                                                                                                  \n",
      " dense4_1 (Dense)               (None, 16)           272         ['output1[0][0]']                \n",
      "                                                                                                  \n",
      " dense2_2 (Dense)               (None, 16)           272         ['dense2_1[0][0]']               \n",
      "                                                                                                  \n",
      " dense3_2 (Dense)               (None, 16)           272         ['dense3_1[0][0]']               \n",
      "                                                                                                  \n",
      " dense4_2 (Dense)               (None, 16)           272         ['dense4_1[0][0]']               \n",
      "                                                                                                  \n",
      " output2 (Dense)                (None, 16)           272         ['dense2_2[0][0]']               \n",
      "                                                                                                  \n",
      " output3 (Dense)                (None, 16)           272         ['dense3_2[0][0]']               \n",
      "                                                                                                  \n",
      " output4 (Dense)                (None, 16)           272         ['dense4_2[0][0]']               \n",
      "                                                                                                  \n",
      "==================================================================================================\n",
      "Total params: 3,312\n",
      "Trainable params: 3,312\n",
      "Non-trainable params: 0\n",
      "__________________________________________________________________________________________________\n"
     ]
    }
   ],
   "source": [
    "from tensorflow.keras.models import Model\n",
    "from tensorflow.keras.layers import Dense, Input, concatenate\n",
    "\n",
    "# 모델 1\n",
    "input1 = Input(shape=(2, ))\n",
    "dense1 = Dense(16, activation='relu', name='dense1')(input1) # summary를 봤을 때 보기쉽게 이름 지정\n",
    "dense2 = Dense(16, activation='relu', name='dense2')(dense1)\n",
    "dense3 = Dense(16, activation='relu', name='dense3')(dense2)\n",
    "output1 = Dense(16, activation='relu', name='output1')(dense3)\n",
    "\n",
    "# 분기 모델 2\n",
    "dense2_1 = Dense(16, activation='linear', name='dense2_1')(output1)\n",
    "dense2_2 = Dense(16, activation='linear', name='dense2_2')(dense2_1)\n",
    "output2 = Dense(16, activation='linear', name='output2')(dense2_2)\n",
    "\n",
    "# 분기 모델 3\n",
    "dense3_1 = Dense(16, activation='linear', name='dense3_1')(output1)\n",
    "dense3_2 = Dense(16, activation='linear', name='dense3_2')(dense3_1)\n",
    "output3 = Dense(16, activation='linear', name='output3')(dense3_2)\n",
    "\n",
    "# 분기 모델 4\n",
    "dense4_1 = Dense(16, activation='linear', name='dense4_1')(output1)\n",
    "dense4_2 = Dense(16, activation='linear', name='dense4_2')(dense4_1)\n",
    "output4 = Dense(16, activation='linear', name='output4')(dense4_2)\n",
    "\n",
    "model = Model(inputs=[input1], outputs=[output2, output3, output4])\n",
    "\n",
    "model.summary()"
   ]
  },
  {
   "attachments": {},
   "cell_type": "markdown",
   "metadata": {},
   "source": [
    "# 컴파일, 훈련"
   ]
  },
  {
   "cell_type": "code",
   "execution_count": 23,
   "metadata": {},
   "outputs": [
    {
     "name": "stdout",
     "output_type": "stream",
     "text": [
      "Epoch 1/16\n",
      "24/24 [==============================] - 1s 11ms/step - loss: 4339894.5000 - output2_loss: 4210231.5000 - output3_loss: 63570.1914 - output4_loss: 66092.1562 - output2_mae: 2051.6133 - output3_mae: 249.9624 - output4_mae: 254.9622\n",
      "Epoch 2/16\n",
      "24/24 [==============================] - 0s 9ms/step - loss: 4188196.5000 - output2_loss: 4075780.0000 - output3_loss: 57377.1328 - output4_loss: 55038.7930 - output2_mae: 2018.2915 - output3_mae: 236.0400 - output4_mae: 230.3033\n",
      "Epoch 3/16\n",
      "24/24 [==============================] - 0s 9ms/step - loss: 3387246.7500 - output2_loss: 3327780.0000 - output3_loss: 31919.6289 - output4_loss: 27546.7578 - output2_mae: 1816.2229 - output3_mae: 153.5393 - output4_mae: 142.8980\n",
      "Epoch 4/16\n",
      "24/24 [==============================] - 0s 8ms/step - loss: 1078075.2500 - output2_loss: 1057705.1250 - output3_loss: 11281.5586 - output4_loss: 9088.7363 - output2_mae: 912.3037 - output3_mae: 87.2869 - output4_mae: 77.8030\n",
      "Epoch 5/16\n",
      "24/24 [==============================] - 0s 8ms/step - loss: 137538.2812 - output2_loss: 135456.2969 - output3_loss: 1000.1989 - output4_loss: 1081.8036 - output2_mae: 282.6588 - output3_mae: 24.9634 - output4_mae: 26.0289\n",
      "Epoch 6/16\n",
      "24/24 [==============================] - 0s 9ms/step - loss: 29238.0781 - output2_loss: 28935.8496 - output3_loss: 150.7214 - output4_loss: 151.5002 - output2_mae: 135.8941 - output3_mae: 9.7734 - output4_mae: 9.9894\n",
      "Epoch 7/16\n",
      "24/24 [==============================] - 0s 9ms/step - loss: 20344.2969 - output2_loss: 20213.0273 - output3_loss: 66.7351 - output4_loss: 64.5326 - output2_mae: 121.4951 - output3_mae: 6.8041 - output4_mae: 6.7075\n",
      "Epoch 8/16\n",
      "24/24 [==============================] - 0s 9ms/step - loss: 19253.8047 - output2_loss: 19134.3789 - output3_loss: 61.5580 - output4_loss: 57.8671 - output2_mae: 117.9452 - output3_mae: 6.6171 - output4_mae: 6.4020\n",
      "Epoch 9/16\n",
      "24/24 [==============================] - 0s 9ms/step - loss: 17970.7129 - output2_loss: 17841.9395 - output3_loss: 65.5973 - output4_loss: 63.1758 - output2_mae: 113.4577 - output3_mae: 6.8442 - output4_mae: 6.7479\n",
      "Epoch 10/16\n",
      "24/24 [==============================] - 0s 9ms/step - loss: 17256.5879 - output2_loss: 17119.7051 - output3_loss: 70.2223 - output4_loss: 66.6587 - output2_mae: 111.4041 - output3_mae: 7.1396 - output4_mae: 6.9799\n",
      "Epoch 11/16\n",
      "24/24 [==============================] - 0s 9ms/step - loss: 17439.1777 - output2_loss: 17278.1523 - output3_loss: 82.3591 - output4_loss: 78.6685 - output2_mae: 110.7012 - output3_mae: 7.7041 - output4_mae: 7.5930\n",
      "Epoch 12/16\n",
      "24/24 [==============================] - 0s 9ms/step - loss: 15670.7656 - output2_loss: 15501.6660 - output3_loss: 86.1481 - output4_loss: 82.9491 - output2_mae: 105.8264 - output3_mae: 7.7743 - output4_mae: 7.6210\n",
      "Epoch 13/16\n",
      "24/24 [==============================] - 0s 9ms/step - loss: 15087.8086 - output2_loss: 14906.2119 - output3_loss: 93.0041 - output4_loss: 88.5943 - output2_mae: 104.3225 - output3_mae: 8.1812 - output4_mae: 8.0219\n",
      "Epoch 14/16\n",
      "24/24 [==============================] - 0s 9ms/step - loss: 14362.2402 - output2_loss: 14154.1162 - output3_loss: 105.8497 - output4_loss: 102.2749 - output2_mae: 99.3650 - output3_mae: 8.5435 - output4_mae: 8.4283\n",
      "Epoch 15/16\n",
      "24/24 [==============================] - 0s 9ms/step - loss: 14527.4395 - output2_loss: 14275.2598 - output3_loss: 127.4863 - output4_loss: 124.6931 - output2_mae: 101.8131 - output3_mae: 9.5916 - output4_mae: 9.4931\n",
      "Epoch 16/16\n",
      "24/24 [==============================] - 0s 9ms/step - loss: 13075.4531 - output2_loss: 12830.9229 - output3_loss: 124.2185 - output4_loss: 120.3115 - output2_mae: 96.7002 - output3_mae: 9.5084 - output4_mae: 9.3919\n"
     ]
    },
    {
     "data": {
      "text/plain": [
       "<keras.callbacks.History at 0x1b6c5efe430>"
      ]
     },
     "execution_count": 23,
     "metadata": {},
     "output_type": "execute_result"
    }
   ],
   "source": [
    "model.compile(loss='mse', optimizer= 'adam', metrics='mae')\n",
    "model.fit([x1_train], [y1_train, y2_train, y3_train], epochs=16, batch_size=3)"
   ]
  },
  {
   "attachments": {},
   "cell_type": "markdown",
   "metadata": {},
   "source": [
    "# 평가"
   ]
  },
  {
   "cell_type": "code",
   "execution_count": 29,
   "metadata": {},
   "outputs": [
    {
     "name": "stdout",
     "output_type": "stream",
     "text": [
      "1/1 [==============================] - 0s 35ms/step - loss: 16702.8047 - output2_loss: 16354.6445 - output3_loss: 177.2141 - output4_loss: 170.9444 - output2_mae: 115.5184 - output3_mae: 11.9054 - output4_mae: 11.7256\n",
      "loss(mse):  [16702.8046875, 16354.64453125, 177.21412658691406, 170.94436645507812, 115.5184097290039, 11.905374526977539, 11.7256498336792]\n",
      "순서대로: loss, output2_loss, output3_loss, output4_loss, output2_mae, output3_mae, output4_mae\n"
     ]
    }
   ],
   "source": [
    "loss = model.evaluate([x1_test], [y1_test, y2_test, y3_test])\n",
    "print(\"loss(mse): \", loss)\n",
    "print(\"순서대로: loss, output2_loss, output3_loss, output4_loss, output2_mae, output3_mae, output4_mae\")\n",
    "\n",
    "\n",
    "# 모델 개수만큼 loss가 출력된다.\n",
    "# 첫번째 loss = 두번째 loss + 세번째 loss"
   ]
  }
 ],
 "metadata": {
  "kernelspec": {
   "display_name": "tf274gpu",
   "language": "python",
   "name": "python3"
  },
  "language_info": {
   "codemirror_mode": {
    "name": "ipython",
    "version": 3
   },
   "file_extension": ".py",
   "mimetype": "text/x-python",
   "name": "python",
   "nbconvert_exporter": "python",
   "pygments_lexer": "ipython3",
   "version": "3.9.7"
  },
  "orig_nbformat": 4,
  "vscode": {
   "interpreter": {
    "hash": "10848e9bd3f5e7d93542d388001135334854454e7336dcf54c4ef52885ee0fb0"
   }
  }
 },
 "nbformat": 4,
 "nbformat_minor": 2
}

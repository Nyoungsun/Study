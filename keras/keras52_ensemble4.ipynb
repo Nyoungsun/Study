{
 "cells": [
  {
   "attachments": {},
   "cell_type": "markdown",
   "metadata": {},
   "source": [
    "# 데이터"
   ]
  },
  {
   "cell_type": "code",
   "execution_count": 11,
   "metadata": {},
   "outputs": [
    {
     "name": "stdout",
     "output_type": "stream",
     "text": [
      "(100, 2)\n",
      "(70, 2) (30, 2) (70,) (30,) (70,) (30,)\n"
     ]
    }
   ],
   "source": [
    "import numpy as np\n",
    "from sklearn.model_selection import train_test_split\n",
    "\n",
    "x1 = np.array([range(100), range(301, 401)]).T                          # ex) 삼전 시가, 고가\n",
    "\n",
    "y1 = np.array(range(2001, 2101)) # 삼전 하루 뒤 종가\n",
    "y2 = np.array(range(201, 301)) # 아모레 하루 뒤 종가\n",
    "\n",
    "print(x1.shape)\n",
    "\n",
    "x1_train, x1_test, \\\n",
    "    y1_train, y1_test, \\\n",
    "            y2_train, y2_test = train_test_split(x1, y1, y2, train_size=0.7, random_state=3333)\n",
    "\n",
    "print(x1_train.shape, x1_test.shape,\n",
    "      y1_train.shape, y1_test.shape,\n",
    "      y2_train.shape, y2_test.shape)\n",
    "\n",
    "# x_train = x_train.reshape(-1, 4, 1)\n",
    "# x_test = x_test.reshape(-1, 4, 1)\n",
    "# pre_data = pre_data.reshape(-1, 4, 1)"
   ]
  },
  {
   "cell_type": "code",
   "execution_count": 12,
   "metadata": {},
   "outputs": [
    {
     "name": "stdout",
     "output_type": "stream",
     "text": [
      "Model: \"model_3\"\n",
      "__________________________________________________________________________________________________\n",
      " Layer (type)                   Output Shape         Param #     Connected to                     \n",
      "==================================================================================================\n",
      " input_6 (InputLayer)           [(None, 2)]          0           []                               \n",
      "                                                                                                  \n",
      " dense1 (Dense)                 (None, 16)           48          ['input_6[0][0]']                \n",
      "                                                                                                  \n",
      " dense2 (Dense)                 (None, 16)           272         ['dense1[0][0]']                 \n",
      "                                                                                                  \n",
      " dense3 (Dense)                 (None, 16)           272         ['dense2[0][0]']                 \n",
      "                                                                                                  \n",
      " output1 (Dense)                (None, 16)           272         ['dense3[0][0]']                 \n",
      "                                                                                                  \n",
      " dense4_1 (Dense)               (None, 16)           272         ['output1[0][0]']                \n",
      "                                                                                                  \n",
      " dense5_1 (Dense)               (None, 16)           272         ['output1[0][0]']                \n",
      "                                                                                                  \n",
      " dense4_2 (Dense)               (None, 16)           272         ['dense4_1[0][0]']               \n",
      "                                                                                                  \n",
      " dense5_2 (Dense)               (None, 16)           272         ['dense5_1[0][0]']               \n",
      "                                                                                                  \n",
      " output4 (Dense)                (None, 16)           272         ['dense4_2[0][0]']               \n",
      "                                                                                                  \n",
      " output5 (Dense)                (None, 16)           272         ['dense5_2[0][0]']               \n",
      "                                                                                                  \n",
      "==================================================================================================\n",
      "Total params: 2,496\n",
      "Trainable params: 2,496\n",
      "Non-trainable params: 0\n",
      "__________________________________________________________________________________________________\n"
     ]
    }
   ],
   "source": [
    "from tensorflow.keras.models import Model\n",
    "from tensorflow.keras.layers import Dense, Input, concatenate\n",
    "\n",
    "# 모델 1\n",
    "input1 = Input(shape=(2, ))\n",
    "dense1 = Dense(16, activation='relu', name='dense1')(input1) # summary를 봤을 때 보기쉽게 이름 지정\n",
    "dense2 = Dense(16, activation='relu', name='dense2')(dense1)\n",
    "dense3 = Dense(16, activation='relu', name='dense3')(dense2)\n",
    "output1 = Dense(16, activation='relu', name='output1')(dense3)\n",
    "\n",
    "# 분기 모델 2\n",
    "dense2_1 = Dense(16, activation='linear', name='dense2_1')(output1)\n",
    "dense2_2 = Dense(16, activation='linear', name='dense2_2')(dense2_1)\n",
    "output2 = Dense(16, activation='linear', name='output4')(dense2_2)\n",
    "\n",
    "# 분기 모델 3\n",
    "dense3_1 = Dense(16, activation='linear', name='dense3_1')(output1)\n",
    "dense3_2 = Dense(16, activation='linear', name='dense3_2')(dense3_1)\n",
    "output3 = Dense(16, activation='linear', name='output3')(dense3_2)\n",
    "\n",
    "# 분기 모델 4\n",
    "dense4_1 = Dense(16, activation='linear', name='dense4_1')(output1)\n",
    "dense4_2 = Dense(16, activation='linear', name='dense4_2')(dense4_1)\n",
    "output4 = Dense(16, activation='linear', name='output4')(dense4_2)\n",
    "\n",
    "model = Model(inputs=[input1], outputs=[output4, output5])\n",
    "\n",
    "model.summary()"
   ]
  },
  {
   "attachments": {},
   "cell_type": "markdown",
   "metadata": {},
   "source": [
    "# 컴파일, 훈련"
   ]
  },
  {
   "cell_type": "code",
   "execution_count": 13,
   "metadata": {},
   "outputs": [
    {
     "name": "stdout",
     "output_type": "stream",
     "text": [
      "Epoch 1/16\n",
      "24/24 [==============================] - 1s 1ms/step - loss: 4282366.5000 - output4_loss: 4224717.5000 - output5_loss: 57648.6680\n",
      "Epoch 2/16\n",
      "24/24 [==============================] - 0s 1ms/step - loss: 4068582.0000 - output4_loss: 4029839.0000 - output5_loss: 38743.1875\n",
      "Epoch 3/16\n",
      "24/24 [==============================] - 0s 1ms/step - loss: 3153027.7500 - output4_loss: 3139320.5000 - output5_loss: 13707.0156\n",
      "Epoch 4/16\n",
      "24/24 [==============================] - 0s 1ms/step - loss: 949064.1875 - output4_loss: 942542.8750 - output5_loss: 6521.4087\n",
      "Epoch 5/16\n",
      "24/24 [==============================] - 0s 1ms/step - loss: 167802.5312 - output4_loss: 166662.4062 - output5_loss: 1140.1201\n",
      "Epoch 6/16\n",
      "24/24 [==============================] - 0s 1ms/step - loss: 39988.0312 - output4_loss: 39827.7734 - output5_loss: 160.2523\n",
      "Epoch 7/16\n",
      "24/24 [==============================] - 0s 1ms/step - loss: 26521.4355 - output4_loss: 26479.4746 - output5_loss: 41.9681\n",
      "Epoch 8/16\n",
      "24/24 [==============================] - 0s 1ms/step - loss: 24344.5059 - output4_loss: 24314.9707 - output5_loss: 29.5377\n",
      "Epoch 9/16\n",
      "24/24 [==============================] - 0s 1ms/step - loss: 23151.4199 - output4_loss: 23120.9121 - output5_loss: 30.5039\n",
      "Epoch 10/16\n",
      "24/24 [==============================] - 0s 1ms/step - loss: 24518.3477 - output4_loss: 24477.5371 - output5_loss: 40.8081\n",
      "Epoch 11/16\n",
      "24/24 [==============================] - 0s 1ms/step - loss: 21403.6055 - output4_loss: 21364.2598 - output5_loss: 39.3439\n",
      "Epoch 12/16\n",
      "24/24 [==============================] - 0s 1ms/step - loss: 20225.2617 - output4_loss: 20178.8164 - output5_loss: 46.4486\n",
      "Epoch 13/16\n",
      "24/24 [==============================] - 0s 1ms/step - loss: 19471.3633 - output4_loss: 19421.4941 - output5_loss: 49.8679\n",
      "Epoch 14/16\n",
      "24/24 [==============================] - 0s 1000us/step - loss: 19020.7598 - output4_loss: 18967.3047 - output5_loss: 53.4530\n",
      "Epoch 15/16\n",
      "24/24 [==============================] - 0s 1ms/step - loss: 18766.6465 - output4_loss: 18705.0508 - output5_loss: 61.5991\n",
      "Epoch 16/16\n",
      "24/24 [==============================] - 0s 1ms/step - loss: 17469.5566 - output4_loss: 17392.7812 - output5_loss: 76.7800\n"
     ]
    },
    {
     "data": {
      "text/plain": [
       "<keras.callbacks.History at 0x167a48e8730>"
      ]
     },
     "execution_count": 13,
     "metadata": {},
     "output_type": "execute_result"
    }
   ],
   "source": [
    "model.compile(loss='mse', optimizer= 'adam')\n",
    "model.fit([x1_train], [y1_train, y2_train], epochs=16, batch_size=3)"
   ]
  },
  {
   "attachments": {},
   "cell_type": "markdown",
   "metadata": {},
   "source": [
    "# 평가"
   ]
  },
  {
   "cell_type": "code",
   "execution_count": 14,
   "metadata": {},
   "outputs": [
    {
     "name": "stdout",
     "output_type": "stream",
     "text": [
      "1/1 [==============================] - 0s 143ms/step - loss: 21956.3965 - output4_loss: 21853.2520 - output5_loss: 103.1436\n",
      "loss(mse): : [21956.396484375, 21853.251953125, 103.14359283447266]\n"
     ]
    }
   ],
   "source": [
    "loss = model.evaluate([x1_test], [y1_test, y2_test])\n",
    "print(\"loss(mse): :\", loss)\n",
    "\n",
    "# 모델 개수만큼 loss가 출력된다.\n",
    "# 첫번째 loss = 두번째 loss + 세번째 loss"
   ]
  }
 ],
 "metadata": {
  "kernelspec": {
   "display_name": "tf27",
   "language": "python",
   "name": "python3"
  },
  "language_info": {
   "codemirror_mode": {
    "name": "ipython",
    "version": 3
   },
   "file_extension": ".py",
   "mimetype": "text/x-python",
   "name": "python",
   "nbconvert_exporter": "python",
   "pygments_lexer": "ipython3",
   "version": "3.9.7"
  },
  "orig_nbformat": 4,
  "vscode": {
   "interpreter": {
    "hash": "b47fb4e6c68d4941015efb0bbf71549277582fe8531338196fc3c7fa71b6aab8"
   }
  }
 },
 "nbformat": 4,
 "nbformat_minor": 2
}

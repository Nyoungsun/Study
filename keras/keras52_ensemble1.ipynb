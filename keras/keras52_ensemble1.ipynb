{
 "cells": [
  {
   "cell_type": "code",
   "execution_count": 1,
   "metadata": {},
   "outputs": [],
   "source": [
    "import numpy as np\n",
    "from tensorflow.keras.models import Model\n",
    "from tensorflow.keras.layers import Dense, Input, concatenate\n",
    "from sklearn.model_selection import train_test_split"
   ]
  },
  {
   "attachments": {},
   "cell_type": "markdown",
   "metadata": {},
   "source": [
    "# 데이터"
   ]
  },
  {
   "cell_type": "code",
   "execution_count": 2,
   "metadata": {},
   "outputs": [
    {
     "name": "stdout",
     "output_type": "stream",
     "text": [
      "(100, 2)\n",
      "(100, 3)\n",
      "(100,)\n",
      "(70, 2) (30, 2) (70, 3) (30, 3) (70,) (30,)\n"
     ]
    }
   ],
   "source": [
    "x1 = np.array([range(100), range(301, 401)]).T \n",
    "x2 = np.array([range(101, 201), range(411, 511), range(150, 250)]).T\n",
    "y = np.array(range(2001, 2101))\n",
    "\n",
    "print(x1.shape)\n",
    "print(x2.shape)\n",
    "print(y.shape)\n",
    "\n",
    "x1_train, x1_test, x2_train, x2_test, y_train, y_test = train_test_split(x1, x2, y, train_size=0.7, random_state=3333) \n",
    "\n",
    "print(x1_train.shape, x1_test.shape, x2_train.shape, x2_test.shape, y_train.shape, y_test.shape)\n",
    "\n",
    "# x_train = x_train.reshape(-1, 4, 1)\n",
    "# x_test = x_test.reshape(-1, 4, 1)\n",
    "# pre_data = pre_data.reshape(-1, 4, 1)"
   ]
  },
  {
   "cell_type": "code",
   "execution_count": 3,
   "metadata": {},
   "outputs": [
    {
     "name": "stdout",
     "output_type": "stream",
     "text": [
      "Model: \"model\"\n",
      "__________________________________________________________________________________________________\n",
      " Layer (type)                   Output Shape         Param #     Connected to                     \n",
      "==================================================================================================\n",
      " input_1 (InputLayer)           [(None, 2)]          0           []                               \n",
      "                                                                                                  \n",
      " ds11 (Dense)                   (None, 11)           33          ['input_1[0][0]']                \n",
      "                                                                                                  \n",
      " input_2 (InputLayer)           [(None, 3)]          0           []                               \n",
      "                                                                                                  \n",
      " ds12 (Dense)                   (None, 12)           144         ['ds11[0][0]']                   \n",
      "                                                                                                  \n",
      " ds21 (Dense)                   (None, 21)           84          ['input_2[0][0]']                \n",
      "                                                                                                  \n",
      " ds13 (Dense)                   (None, 13)           169         ['ds12[0][0]']                   \n",
      "                                                                                                  \n",
      " ds22 (Dense)                   (None, 22)           484         ['ds21[0][0]']                   \n",
      "                                                                                                  \n",
      " ds14 (Dense)                   (None, 14)           196         ['ds13[0][0]']                   \n",
      "                                                                                                  \n",
      " ds23 (Dense)                   (None, 23)           529         ['ds22[0][0]']                   \n",
      "                                                                                                  \n",
      " mg1 (Concatenate)              (None, 37)           0           ['ds14[0][0]',                   \n",
      "                                                                  'ds23[0][0]']                   \n",
      "                                                                                                  \n",
      " mg2 (Dense)                    (None, 12)           456         ['mg1[0][0]']                    \n",
      "                                                                                                  \n",
      " mg3 (Dense)                    (None, 13)           169         ['mg2[0][0]']                    \n",
      "                                                                                                  \n",
      " last (Dense)                   (None, 1)            14          ['mg3[0][0]']                    \n",
      "                                                                                                  \n",
      "==================================================================================================\n",
      "Total params: 2,278\n",
      "Trainable params: 2,278\n",
      "Non-trainable params: 0\n",
      "__________________________________________________________________________________________________\n"
     ]
    }
   ],
   "source": [
    "# 모델 1\n",
    "input1 = Input(shape=(2, ))\n",
    "dense1 = Dense(11, activation='relu', name='ds11')(input1) # summary를 봤을 때 보기쉽게 이름 지정\n",
    "dense2 = Dense(12, activation='relu', name='ds12')(dense1)\n",
    "dense3 = Dense(13, activation='relu', name='ds13')(dense2)\n",
    "output1 = Dense(14, activation='relu', name='ds14')(dense3)\n",
    "\n",
    "# 모델 2 \n",
    "input2 = Input(shape=(3, ))\n",
    "dense21 = Dense(21, activation='linear', name='ds21')(input2)\n",
    "dense22 = Dense(22, activation='linear', name='ds22')(dense21)\n",
    "output2 = Dense(23, activation='linear', name='ds23')(dense22)\n",
    "       \n",
    "# 병합\n",
    "merge1 = concatenate([output1, output2], name = 'mg1')\n",
    "merge2 = Dense(12, activation='relu', name='mg2')(merge1)\n",
    "merge3 = Dense(13, name='mg3')(merge2) \n",
    "last_output = Dense(1, name = 'last')(merge3)\n",
    "\n",
    "model = Model(inputs=[input1, input2], outputs=[last_output])\n",
    "\n",
    "model.summary()"
   ]
  },
  {
   "attachments": {},
   "cell_type": "markdown",
   "metadata": {},
   "source": [
    "# 컴파일, 훈련"
   ]
  },
  {
   "cell_type": "code",
   "execution_count": 4,
   "metadata": {},
   "outputs": [
    {
     "name": "stdout",
     "output_type": "stream",
     "text": [
      "Epoch 1/16\n",
      "24/24 [==============================] - 0s 2ms/step - loss: 3822131.5000\n",
      "Epoch 2/16\n",
      "24/24 [==============================] - 0s 2ms/step - loss: 1642145.7500\n",
      "Epoch 3/16\n",
      "24/24 [==============================] - 0s 2ms/step - loss: 78194.1406\n",
      "Epoch 4/16\n",
      "24/24 [==============================] - 0s 2ms/step - loss: 28502.7188\n",
      "Epoch 5/16\n",
      "24/24 [==============================] - 0s 4ms/step - loss: 21481.0547\n",
      "Epoch 6/16\n",
      "24/24 [==============================] - 0s 2ms/step - loss: 22361.5371\n",
      "Epoch 7/16\n",
      "24/24 [==============================] - 0s 1ms/step - loss: 19664.7695\n",
      "Epoch 8/16\n",
      "24/24 [==============================] - 0s 1ms/step - loss: 22339.2637\n",
      "Epoch 9/16\n",
      "24/24 [==============================] - 0s 2ms/step - loss: 21980.1387\n",
      "Epoch 10/16\n",
      "24/24 [==============================] - 0s 2ms/step - loss: 19186.3320\n",
      "Epoch 11/16\n",
      "24/24 [==============================] - 0s 2ms/step - loss: 18536.2812\n",
      "Epoch 12/16\n",
      "24/24 [==============================] - 0s 2ms/step - loss: 18936.6035\n",
      "Epoch 13/16\n",
      "24/24 [==============================] - 0s 2ms/step - loss: 17846.1270\n",
      "Epoch 14/16\n",
      "24/24 [==============================] - 0s 2ms/step - loss: 17248.0430\n",
      "Epoch 15/16\n",
      "24/24 [==============================] - 0s 1ms/step - loss: 15819.6943\n",
      "Epoch 16/16\n",
      "24/24 [==============================] - 0s 1ms/step - loss: 15783.7910\n"
     ]
    },
    {
     "data": {
      "text/plain": [
       "<keras.callbacks.History at 0x274e0457310>"
      ]
     },
     "execution_count": 4,
     "metadata": {},
     "output_type": "execute_result"
    }
   ],
   "source": [
    "model.compile(loss='mse', optimizer= 'adam')\n",
    "model.fit([x1_train, x2_train], y_train, epochs=16, batch_size=3)"
   ]
  },
  {
   "attachments": {},
   "cell_type": "markdown",
   "metadata": {},
   "source": [
    "# 평가"
   ]
  },
  {
   "cell_type": "code",
   "execution_count": 6,
   "metadata": {},
   "outputs": [
    {
     "name": "stdout",
     "output_type": "stream",
     "text": [
      "(30, 2) (30, 3)\n",
      "1/1 [==============================] - 0s 31ms/step - loss: 20186.7832\n",
      "loss(mse): : 20186.783203125\n"
     ]
    }
   ],
   "source": [
    "loss = model.evaluate([x1_test, x2_test], y_test)\n",
    "print(\"loss(mse): :\", loss)"
   ]
  }
 ],
 "metadata": {
  "kernelspec": {
   "display_name": "tf27",
   "language": "python",
   "name": "python3"
  },
  "language_info": {
   "codemirror_mode": {
    "name": "ipython",
    "version": 3
   },
   "file_extension": ".py",
   "mimetype": "text/x-python",
   "name": "python",
   "nbconvert_exporter": "python",
   "pygments_lexer": "ipython3",
   "version": "3.9.7"
  },
  "orig_nbformat": 4,
  "vscode": {
   "interpreter": {
    "hash": "ee92469b7b40312ae4629e0ddda08362c800b4ec056b23028eec5e635e6d661f"
   }
  }
 },
 "nbformat": 4,
 "nbformat_minor": 2
}

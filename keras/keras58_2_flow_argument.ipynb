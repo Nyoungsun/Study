{
 "cells": [
  {
   "attachments": {},
   "cell_type": "markdown",
   "metadata": {},
   "source": [
    " # 데이터"
   ]
  },
  {
   "cell_type": "code",
   "execution_count": 2,
   "metadata": {},
   "outputs": [
    {
     "name": "stdout",
     "output_type": "stream",
     "text": [
      "60000\n",
      "[14073  8302 52334 ... 21476 11848 36236]\n",
      "40000\n",
      "(40000,)\n",
      "(40000, 28, 28, 1)\n",
      "(40000,)\n"
     ]
    }
   ],
   "source": [
    "import numpy as np\n",
    "from tensorflow.keras.preprocessing.image import ImageDataGenerator\n",
    "from tensorflow.keras.datasets import fashion_mnist\n",
    "\n",
    "(x_train, y_train), (x_test, y_test) = fashion_mnist.load_data()\n",
    "\n",
    "argument_size = 40000\n",
    "\n",
    "print(x_train.shape[0])\n",
    "\n",
    "randidx = np.random.randint(x_train.shape[0], size=argument_size) # 6만개 중에 4만개 랜덤 추출\n",
    "print(randidx)\n",
    "print(len(randidx))\n",
    "print(randidx.shape)\n",
    "\n",
    "x_argument = x_train[randidx].copy().reshape(-1, 28, 28 ,1)    # 추출한 4만개의 난수를 인덱스로 사용, copy = 원본 데이터를 건들지 않기 위해\n",
    "y_argument = y_train[randidx].copy()     \n",
    "\n",
    "print(x_argument.shape)\n",
    "print(y_argument.shape)\n",
    "\n",
    "data_Gen = ImageDataGenerator (\n",
    "    rescale = 1./255, \n",
    "    horizontal_flip = True,         # 수평선을 기준으로 반전\n",
    "    vertical_flip = True,           # 수직선을 기준으로 반전\n",
    "    width_shift_range = 0.1,        # 10% 만큼 가로 이동\n",
    "    height_shift_range = 0.1,       # 10% 만큼 세로 이동\n",
    "    rotation_range = 5,             # 회전\n",
    "    zoom_range = 0.7,               # 확대\n",
    "    shear_range = 0.7,              # 엇갈림\n",
    "    fill_mode = 'nearest'           # 축 이동을 했을 때 비는 부분을 가까운 값으로 채운다.\n",
    ")\n",
    "\n",
    "argumented = data_Gen.flow(\n",
    "    x_argument, # x \n",
    "    y_argument, # y\n",
    "    batch_size=argument_size,\n",
    "    shuffle=True\n",
    ")\n",
    "\n",
    "x_train = x_train.reshape(-1, 28, 28, 1)\n",
    "\n",
    "x_train=np.concatenate((x_train, argumented[0][0]))\n",
    "y_train=np.concatenate((y_train, argumented[0][1]))"
   ]
  }
 ],
 "metadata": {
  "kernelspec": {
   "display_name": "tf274gpu",
   "language": "python",
   "name": "python3"
  },
  "language_info": {
   "codemirror_mode": {
    "name": "ipython",
    "version": 3
   },
   "file_extension": ".py",
   "mimetype": "text/x-python",
   "name": "python",
   "nbconvert_exporter": "python",
   "pygments_lexer": "ipython3",
   "version": "3.9.7"
  },
  "orig_nbformat": 4,
  "vscode": {
   "interpreter": {
    "hash": "10848e9bd3f5e7d93542d388001135334854454e7336dcf54c4ef52885ee0fb0"
   }
  }
 },
 "nbformat": 4,
 "nbformat_minor": 2
}

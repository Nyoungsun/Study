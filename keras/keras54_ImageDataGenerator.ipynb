{
 "cells": [
  {
   "cell_type": "code",
   "execution_count": null,
   "metadata": {},
   "outputs": [],
   "source": [
    "import numpy as np\n",
    "from tensorflow.keras.preprocessing.image import ImageDataGenerator\n",
    "\n",
    "train_data_Gen = ImageDataGenerator(\n",
    "    rescale = 1./255, \n",
    "    horizontal_flip = True,     # 수평선을 기준으로 반전\n",
    "    vertical_flip = True,       # 수직선을 기준으로 반전\n",
    "    width_shift_range = 0.1,    # 10% 만큼 가로 이동\n",
    "    height_shift_range = 0.1,   # 10% 만큼 세로 이동\n",
    "    rotation_range = 5,         # 회전\n",
    "    zoom_range = 0.7,           # 확대\n",
    "    shear_range = 0.7,          # 엇갈림\n",
    "    fill_mode = 'nearest'       # 축 이동을 했을 때 비는 부분을 가까운 값으로 채운다\n",
    ")\n",
    "\n",
    "test_data_Gen = ImageDataGenerator(\n",
    "    rescale = 1./255            # 테스트 데이터는 리스케일링만 한다.: 평가에 쓰이는 테스트 데이터는 증폭시키지 않은 원 데이터 사용\n",
    ")\n",
    "\n",
    "train_data_Gen.flow_from_directory"
   ]
  }
 ],
 "metadata": {
  "kernelspec": {
   "display_name": "tf27",
   "language": "python",
   "name": "python3"
  },
  "language_info": {
   "name": "python",
   "version": "3.9.7 (default, Sep 16 2021, 16:59:28) [MSC v.1916 64 bit (AMD64)]"
  },
  "orig_nbformat": 4,
  "vscode": {
   "interpreter": {
    "hash": "b47fb4e6c68d4941015efb0bbf71549277582fe8531338196fc3c7fa71b6aab8"
   }
  }
 },
 "nbformat": 4,
 "nbformat_minor": 2
}

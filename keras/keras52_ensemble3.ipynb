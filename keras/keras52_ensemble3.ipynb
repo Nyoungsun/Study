{
 "cells": [
  {
   "cell_type": "code",
   "execution_count": null,
   "metadata": {},
   "outputs": [],
   "source": []
  },
  {
   "attachments": {},
   "cell_type": "markdown",
   "metadata": {},
   "source": [
    "# 데이터"
   ]
  },
  {
   "cell_type": "code",
   "execution_count": 5,
   "metadata": {},
   "outputs": [
    {
     "name": "stdout",
     "output_type": "stream",
     "text": [
      "(100, 2)\n",
      "(100, 3)\n",
      "(100, 2)\n",
      "(100,)\n",
      "(100,)\n",
      "(70, 2) (30, 2) (70, 3) (30, 3) (70, 2) (30, 2) (70,) (30,) (70,) (30,)\n"
     ]
    }
   ],
   "source": [
    "import numpy as np\n",
    "from sklearn.model_selection import train_test_split\n",
    "\n",
    "\n",
    "x1 = np.array([range(100), range(301, 401)]).T                          # ex) 삼전 시가, 고가\n",
    "x2 = np.array([range(101, 201), range(411, 511), range(150, 250)]).T    # ex) 아모레 시가, 고가, 종가\n",
    "x3 = np.array([range(100, 200), range(1301, 1401)]).T\n",
    "y1 = np.array(range(2001, 2101))                                        # 삼전 하루 뒤 종가\n",
    "y2 = np.array(range(201, 301))                                          # 아모레 하루 뒤 종가\n",
    "\n",
    "print(x1.shape)\n",
    "print(x2.shape)\n",
    "print(x3.shape)\n",
    "print(y1.shape)\n",
    "print(y2.shape)\n",
    "\n",
    "x1_train, x1_test, \\\n",
    "    x2_train, x2_test, \\\n",
    "        x3_train, x3_test, \\\n",
    "            y1_train, y1_test, \\\n",
    "                y2_train, y2_test = train_test_split(x1, x2, x3, y1, y2, train_size=0.7, random_state=3333)\n",
    "\n",
    "print(x1_train.shape, x1_test.shape,\n",
    "      x2_train.shape, x2_test.shape,\n",
    "      x3_train.shape, x3_test.shape,\n",
    "      y1_train.shape, y1_test.shape,\n",
    "      y2_train.shape, y2_test.shape)"
   ]
  },
  {
   "cell_type": "code",
   "execution_count": 6,
   "metadata": {},
   "outputs": [
    {
     "name": "stdout",
     "output_type": "stream",
     "text": [
      "Model: \"model_1\"\n",
      "__________________________________________________________________________________________________\n",
      " Layer (type)                   Output Shape         Param #     Connected to                     \n",
      "==================================================================================================\n",
      " input_4 (InputLayer)           [(None, 2)]          0           []                               \n",
      "                                                                                                  \n",
      " dense1 (Dense)                 (None, 16)           48          ['input_4[0][0]']                \n",
      "                                                                                                  \n",
      " input_5 (InputLayer)           [(None, 3)]          0           []                               \n",
      "                                                                                                  \n",
      " input_6 (InputLayer)           [(None, 2)]          0           []                               \n",
      "                                                                                                  \n",
      " dense2 (Dense)                 (None, 16)           272         ['dense1[0][0]']                 \n",
      "                                                                                                  \n",
      " dense2_1 (Dense)               (None, 16)           64          ['input_5[0][0]']                \n",
      "                                                                                                  \n",
      " dense3_1 (Dense)               (None, 16)           48          ['input_6[0][0]']                \n",
      "                                                                                                  \n",
      " dense3 (Dense)                 (None, 16)           272         ['dense2[0][0]']                 \n",
      "                                                                                                  \n",
      " dense2_2 (Dense)               (None, 16)           272         ['dense2_1[0][0]']               \n",
      "                                                                                                  \n",
      " dense3_2 (Dense)               (None, 16)           272         ['dense3_1[0][0]']               \n",
      "                                                                                                  \n",
      " output1 (Dense)                (None, 16)           272         ['dense3[0][0]']                 \n",
      "                                                                                                  \n",
      " output2 (Dense)                (None, 16)           272         ['dense2_2[0][0]']               \n",
      "                                                                                                  \n",
      " output3 (Dense)                (None, 16)           272         ['dense3_2[0][0]']               \n",
      "                                                                                                  \n",
      " merge1 (Concatenate)           (None, 48)           0           ['output1[0][0]',                \n",
      "                                                                  'output2[0][0]',                \n",
      "                                                                  'output3[0][0]']                \n",
      "                                                                                                  \n",
      " merge2 (Dense)                 (None, 16)           784         ['merge1[0][0]']                 \n",
      "                                                                                                  \n",
      " merge3 (Dense)                 (None, 16)           272         ['merge2[0][0]']                 \n",
      "                                                                                                  \n",
      " merge_output (Dense)           (None, 1)            17          ['merge3[0][0]']                 \n",
      "                                                                                                  \n",
      " dense4_1 (Dense)               (None, 16)           32          ['merge_output[0][0]']           \n",
      "                                                                                                  \n",
      " dense5_1 (Dense)               (None, 16)           32          ['merge_output[0][0]']           \n",
      "                                                                                                  \n",
      " dense4_2 (Dense)               (None, 16)           272         ['dense4_1[0][0]']               \n",
      "                                                                                                  \n",
      " dense5_2 (Dense)               (None, 16)           272         ['dense5_1[0][0]']               \n",
      "                                                                                                  \n",
      " output4 (Dense)                (None, 16)           272         ['dense4_2[0][0]']               \n",
      "                                                                                                  \n",
      " output5 (Dense)                (None, 16)           272         ['dense5_2[0][0]']               \n",
      "                                                                                                  \n",
      "==================================================================================================\n",
      "Total params: 4,289\n",
      "Trainable params: 4,289\n",
      "Non-trainable params: 0\n",
      "__________________________________________________________________________________________________\n"
     ]
    }
   ],
   "source": [
    "from tensorflow.keras.layers import Dense, Input, concatenate, Concatenate\n",
    "from tensorflow.keras.models import Model\n",
    "\n",
    "# 모델 1\n",
    "input1 = Input(shape=(2, ))\n",
    "dense1 = Dense(16, activation='relu', name='dense1')(input1) # summary를 봤을 때 보기쉽게 이름 지정\n",
    "dense2 = Dense(16, activation='relu', name='dense2')(dense1)\n",
    "dense3 = Dense(16, activation='relu', name='dense3')(dense2)\n",
    "output1 = Dense(16, activation='relu', name='output1')(dense3)\n",
    "\n",
    "# 모델 2 \n",
    "input2 = Input(shape=(3, ))\n",
    "dense2_1 = Dense(16, activation='linear', name='dense2_1')(input2)\n",
    "dense2_2 = Dense(16, activation='linear', name='dense2_2')(dense2_1)\n",
    "output2 = Dense(16, activation='linear', name='output2')(dense2_2)\n",
    "\n",
    "\n",
    "# 모델 3\n",
    "input3 = Input(shape=(2, ))\n",
    "dense3_1 = Dense(16, activation='linear', name='dense3_1')(input3)\n",
    "dense3_2 = Dense(16, activation='linear', name='dense3_2')(dense3_1)\n",
    "output3 = Dense(16, activation='linear', name='output3')(dense3_2)\n",
    "       \n",
    "# 병합\n",
    "# merge1 = concatenate([output1, output2, output3], name = 'merge1') # 소문자: 함수\n",
    "merge1 = Concatenate(name='merge1')([output1, output2, output3])     # 대문자: class\n",
    "merge2 = Dense(16, activation='relu', name='merge2')(merge1)\n",
    "merge3 = Dense(16, name='merge3')(merge2) \n",
    "merge_output = Dense(1, name = 'merge_output')(merge3)\n",
    "\n",
    "# 분기 모델 4\n",
    "dense4_1 = Dense(16, activation='linear', name='dense4_1')(merge_output)\n",
    "dense4_2 = Dense(16, activation='linear', name='dense4_2')(dense4_1)\n",
    "output4 = Dense(16, activation='linear', name='output4')(dense4_2)\n",
    "\n",
    "# 분기 모델 5\n",
    "dense5_1 = Dense(16, activation='linear', name='dense5_1')(merge_output)\n",
    "dense5_2 = Dense(16, activation='linear', name='dense5_2')(dense5_1)\n",
    "output5 = Dense(16, activation='linear', name='output5')(dense5_2)\n",
    "\n",
    "model = Model(inputs=[input1, input2, input3], outputs=[output4, output5])\n",
    "\n",
    "model.summary()"
   ]
  },
  {
   "attachments": {},
   "cell_type": "markdown",
   "metadata": {},
   "source": [
    "# 컴파일, 훈련"
   ]
  },
  {
   "cell_type": "code",
   "execution_count": 7,
   "metadata": {},
   "outputs": [
    {
     "name": "stdout",
     "output_type": "stream",
     "text": [
      "Epoch 1/16\n",
      "24/24 [==============================] - 1s 11ms/step - loss: 3702786.7500 - output4_loss: 3424419.2500 - output5_loss: 278367.7500\n",
      "Epoch 2/16\n",
      "24/24 [==============================] - 0s 9ms/step - loss: 1425972.5000 - output4_loss: 1101406.2500 - output5_loss: 324566.3125\n",
      "Epoch 3/16\n",
      "24/24 [==============================] - 0s 9ms/step - loss: 156661.1094 - output4_loss: 124722.1562 - output5_loss: 31938.9707\n",
      "Epoch 4/16\n",
      "24/24 [==============================] - 0s 9ms/step - loss: 9930.8379 - output4_loss: 8714.6445 - output5_loss: 1216.1929\n",
      "Epoch 5/16\n",
      "24/24 [==============================] - 0s 9ms/step - loss: 3836.1077 - output4_loss: 3290.6130 - output5_loss: 545.4945\n",
      "Epoch 6/16\n",
      "24/24 [==============================] - 0s 9ms/step - loss: 2877.9268 - output4_loss: 2365.8860 - output5_loss: 512.0405\n",
      "Epoch 7/16\n",
      "24/24 [==============================] - 0s 9ms/step - loss: 2526.1692 - output4_loss: 2116.6245 - output5_loss: 409.5446\n",
      "Epoch 8/16\n",
      "24/24 [==============================] - 0s 9ms/step - loss: 2642.3611 - output4_loss: 2279.2444 - output5_loss: 363.1167\n",
      "Epoch 9/16\n",
      "24/24 [==============================] - 0s 9ms/step - loss: 2198.6729 - output4_loss: 1818.7421 - output5_loss: 379.9306\n",
      "Epoch 10/16\n",
      "24/24 [==============================] - 0s 9ms/step - loss: 3139.0752 - output4_loss: 2674.6106 - output5_loss: 464.4648\n",
      "Epoch 11/16\n",
      "24/24 [==============================] - 0s 9ms/step - loss: 2420.8535 - output4_loss: 2002.6241 - output5_loss: 418.2294\n",
      "Epoch 12/16\n",
      "24/24 [==============================] - 0s 9ms/step - loss: 1843.8622 - output4_loss: 1428.7063 - output5_loss: 415.1556\n",
      "Epoch 13/16\n",
      "24/24 [==============================] - 0s 9ms/step - loss: 1764.2651 - output4_loss: 1326.8945 - output5_loss: 437.3706\n",
      "Epoch 14/16\n",
      "24/24 [==============================] - 0s 9ms/step - loss: 1646.4274 - output4_loss: 1208.2958 - output5_loss: 438.1316\n",
      "Epoch 15/16\n",
      "24/24 [==============================] - 0s 9ms/step - loss: 1785.2596 - output4_loss: 1338.2175 - output5_loss: 447.0420\n",
      "Epoch 16/16\n",
      "24/24 [==============================] - 0s 9ms/step - loss: 1735.0422 - output4_loss: 1254.9712 - output5_loss: 480.0710\n"
     ]
    },
    {
     "data": {
      "text/plain": [
       "<keras.callbacks.History at 0x1e7cbd4b0d0>"
      ]
     },
     "execution_count": 7,
     "metadata": {},
     "output_type": "execute_result"
    }
   ],
   "source": [
    "model.compile(loss='mse', optimizer= 'adam')\n",
    "model.fit([x1_train, x2_train, x3_train], [y1_train, y2_train], epochs=16, batch_size=3)"
   ]
  },
  {
   "attachments": {},
   "cell_type": "markdown",
   "metadata": {},
   "source": [
    "# 평가"
   ]
  },
  {
   "cell_type": "code",
   "execution_count": 8,
   "metadata": {},
   "outputs": [
    {
     "name": "stdout",
     "output_type": "stream",
     "text": [
      "1/1 [==============================] - 0s 174ms/step - loss: 1734.0419 - output4_loss: 1097.6641 - output5_loss: 636.3779\n",
      "loss(mse): : [1734.0418701171875, 1097.6640625, 636.3778686523438]\n"
     ]
    }
   ],
   "source": [
    "loss = model.evaluate([x1_test, x2_test, x3_test], [y1_test, y2_test])\n",
    "print(\"loss(mse): :\", loss)"
   ]
  }
 ],
 "metadata": {
  "kernelspec": {
   "display_name": "tf274gpu",
   "language": "python",
   "name": "python3"
  },
  "language_info": {
   "codemirror_mode": {
    "name": "ipython",
    "version": 3
   },
   "file_extension": ".py",
   "mimetype": "text/x-python",
   "name": "python",
   "nbconvert_exporter": "python",
   "pygments_lexer": "ipython3",
   "version": "3.9.7 (default, Sep 16 2021, 16:59:28) [MSC v.1916 64 bit (AMD64)]"
  },
  "orig_nbformat": 4,
  "vscode": {
   "interpreter": {
    "hash": "10848e9bd3f5e7d93542d388001135334854454e7336dcf54c4ef52885ee0fb0"
   }
  }
 },
 "nbformat": 4,
 "nbformat_minor": 2
}
